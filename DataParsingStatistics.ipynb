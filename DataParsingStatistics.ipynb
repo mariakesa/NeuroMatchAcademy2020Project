{
 "cells": [
  {
   "cell_type": "code",
   "execution_count": 22,
   "metadata": {},
   "outputs": [],
   "source": [
    "import numpy as np\n",
    "import os\n",
    "import tarfile\n",
    "import pandas as pd\n"
   ]
  },
  {
   "cell_type": "code",
   "execution_count": 20,
   "metadata": {},
   "outputs": [],
   "source": [
    "#File path\n",
    "path_to_zip_files='/media/maria/DATA1/Documents/NeuroMatchAcademy2020_dat/full_data'"
   ]
  },
  {
   "cell_type": "code",
   "execution_count": 21,
   "metadata": {
    "scrolled": true
   },
   "outputs": [
    {
     "name": "stdout",
     "output_type": "stream",
     "text": [
      "[]\n"
     ]
    }
   ],
   "source": [
    "files=os.listdir(path_to_zip_files)\n",
    "print(files)"
   ]
  },
  {
   "cell_type": "code",
   "execution_count": 12,
   "metadata": {},
   "outputs": [],
   "source": [
    "path_to_unzip_files='/media/maria/DATA1/Documents/NeuroMatchAcademy2020_dat/unzipped_files'"
   ]
  },
  {
   "cell_type": "code",
   "execution_count": 23,
   "metadata": {},
   "outputs": [],
   "source": [
    "extension = \".tar\"\n",
    "\n",
    "os.chdir(path_to_zip_files) # change directory from working dir to dir with files\n",
    "\n",
    "for item in os.listdir(path_to_zip_files): # loop through items in dir\n",
    "    if item.endswith(extension): # check for \".zip\" extension\n",
    "        file_name = os.path.abspath(item) # get full path of files\n",
    "        tar = tarfile.open(file_name, \"r:\")\n",
    "        tar.extractall(path_to_unzip_files+'/'+str(item))\n",
    "        tar.close()\n",
    "        #os.remove(file_name) "
   ]
  },
  {
   "cell_type": "code",
   "execution_count": 48,
   "metadata": {},
   "outputs": [],
   "source": [
    "def probes_loc_one_file(one_mouse_folder):\n",
    "    path='/media/maria/DATA1/Documents/NeuroMatchAcademy2020_dat/unzipped_files/'\n",
    "    dat=pd.read_csv(path+one_mouse_folder+'/'+'channels.brainLocation.tsv', sep='\\t')\n",
    "    dat['Mouse_Folder'] =str(one_mouse_folder)\n",
    "    return dat\n",
    "    "
   ]
  },
  {
   "cell_type": "code",
   "execution_count": 51,
   "metadata": {
    "scrolled": true
   },
   "outputs": [
    {
     "name": "stdout",
     "output_type": "stream",
     "text": [
      "       Unnamed: 0  ccf_ap  ccf_dv  ccf_lr allen_ontology  \\\n",
      "0               0  7175.9  2980.6  1460.9            SSs   \n",
      "1               1  7145.8  2980.6  1471.8            SSs   \n",
      "2               2  7193.3  2961.8  1461.9            SSs   \n",
      "3               3  7163.2  2961.8  1472.8            SSs   \n",
      "4               4  7180.6  2943.0  1473.8            SSs   \n",
      "...           ...     ...     ...     ...            ...   \n",
      "34403       34403  2850.6  1446.8  5171.4           root   \n",
      "34404       34404  2860.8  1427.5  5157.9           root   \n",
      "34405       34405  2887.0  1427.5  5139.6           root   \n",
      "34406       34406  2844.7  1408.2  5162.9           root   \n",
      "34407       34407  2870.9  1408.2  5144.5           root   \n",
      "\n",
      "                   Mouse_Folder  \n",
      "0      Lederberg_2017-12-09.tar  \n",
      "1      Lederberg_2017-12-09.tar  \n",
      "2      Lederberg_2017-12-09.tar  \n",
      "3      Lederberg_2017-12-09.tar  \n",
      "4      Lederberg_2017-12-09.tar  \n",
      "...                         ...  \n",
      "34403    Theiler_2017-10-11.tar  \n",
      "34404    Theiler_2017-10-11.tar  \n",
      "34405    Theiler_2017-10-11.tar  \n",
      "34406    Theiler_2017-10-11.tar  \n",
      "34407    Theiler_2017-10-11.tar  \n",
      "\n",
      "[34408 rows x 6 columns]\n"
     ]
    }
   ],
   "source": [
    "def stack_df_probes_loc(save=False):\n",
    "    path='/media/maria/DATA1/Documents/NeuroMatchAcademy2020_dat/unzipped_files'\n",
    "    folders=os.listdir(path_to_zip_files)\n",
    "    #folders=folders[0:3]\n",
    "    total_df=pd.DataFrame()\n",
    "    for folder in folders:\n",
    "        df_to_add=probes_loc_one_file(folder)\n",
    "        total_df= pd.concat([total_df,df_to_add],ignore_index=True)\n",
    "    if save==True:\n",
    "        save_path='/media/maria/DATA1/Documents/NeuroMatchAcademy2020_dat/data_processing_files/'\n",
    "        total_df.to_csv(save_path+'probes_loc.csv')\n",
    "    return total_df\n",
    "        \n",
    "#total_df=stack_df_probes_loc(True)\n",
    "total_df=pd.read_csv('/media/maria/DATA1/Documents/NeuroMatchAcademy2020_dat/data_processing_files/'+'probes_loc.csv')\n",
    "print(total_df)"
   ]
  },
  {
   "cell_type": "code",
   "execution_count": 58,
   "metadata": {},
   "outputs": [],
   "source": [
    "#Cub-circuits of interest\n",
    "mid_brain_circuits=['SCs','SCm','MRN','APN','PAG','ZI']\n",
    "frontal_circuits=['MOs','PL','ILA','ORB','MOp','SSp']"
   ]
  },
  {
   "cell_type": "code",
   "execution_count": 59,
   "metadata": {},
   "outputs": [
    {
     "name": "stdout",
     "output_type": "stream",
     "text": [
      "SCs\n",
      "222\n",
      "None\n",
      "SCm\n",
      "598\n",
      "None\n",
      "MRN\n",
      "1002\n",
      "None\n",
      "APN\n",
      "334\n",
      "None\n",
      "PAG\n",
      "260\n",
      "None\n",
      "ZI\n",
      "210\n",
      "None\n"
     ]
    }
   ],
   "source": [
    "for circ in mid_brain_circuits:\n",
    "    print(circ)\n",
    "    sub_circ=print(np.sum(total_df['allen_ontology']==circ))\n",
    "    print(sub_circ)"
   ]
  },
  {
   "cell_type": "code",
   "execution_count": 55,
   "metadata": {},
   "outputs": [
    {
     "ename": "AttributeError",
     "evalue": "'DataFrame' object has no attribute 'type'",
     "output_type": "error",
     "traceback": [
      "\u001b[0;31m---------------------------------------------------------------------------\u001b[0m",
      "\u001b[0;31mAttributeError\u001b[0m                            Traceback (most recent call last)",
      "\u001b[0;32m<ipython-input-55-54313838157b>\u001b[0m in \u001b[0;36m<module>\u001b[0;34m\u001b[0m\n\u001b[0;32m----> 1\u001b[0;31m \u001b[0mprint\u001b[0m\u001b[0;34m(\u001b[0m\u001b[0mtotal_df\u001b[0m\u001b[0;34m.\u001b[0m\u001b[0mtype\u001b[0m\u001b[0;34m)\u001b[0m\u001b[0;34m\u001b[0m\u001b[0;34m\u001b[0m\u001b[0m\n\u001b[0m",
      "\u001b[0;32m~/anaconda3/lib/python3.7/site-packages/pandas/core/generic.py\u001b[0m in \u001b[0;36m__getattr__\u001b[0;34m(self, name)\u001b[0m\n\u001b[1;32m   5272\u001b[0m             \u001b[0;32mif\u001b[0m \u001b[0mself\u001b[0m\u001b[0;34m.\u001b[0m\u001b[0m_info_axis\u001b[0m\u001b[0;34m.\u001b[0m\u001b[0m_can_hold_identifiers_and_holds_name\u001b[0m\u001b[0;34m(\u001b[0m\u001b[0mname\u001b[0m\u001b[0;34m)\u001b[0m\u001b[0;34m:\u001b[0m\u001b[0;34m\u001b[0m\u001b[0;34m\u001b[0m\u001b[0m\n\u001b[1;32m   5273\u001b[0m                 \u001b[0;32mreturn\u001b[0m \u001b[0mself\u001b[0m\u001b[0;34m[\u001b[0m\u001b[0mname\u001b[0m\u001b[0;34m]\u001b[0m\u001b[0;34m\u001b[0m\u001b[0;34m\u001b[0m\u001b[0m\n\u001b[0;32m-> 5274\u001b[0;31m             \u001b[0;32mreturn\u001b[0m \u001b[0mobject\u001b[0m\u001b[0;34m.\u001b[0m\u001b[0m__getattribute__\u001b[0m\u001b[0;34m(\u001b[0m\u001b[0mself\u001b[0m\u001b[0;34m,\u001b[0m \u001b[0mname\u001b[0m\u001b[0;34m)\u001b[0m\u001b[0;34m\u001b[0m\u001b[0;34m\u001b[0m\u001b[0m\n\u001b[0m\u001b[1;32m   5275\u001b[0m \u001b[0;34m\u001b[0m\u001b[0m\n\u001b[1;32m   5276\u001b[0m     \u001b[0;32mdef\u001b[0m \u001b[0m__setattr__\u001b[0m\u001b[0;34m(\u001b[0m\u001b[0mself\u001b[0m\u001b[0;34m,\u001b[0m \u001b[0mname\u001b[0m\u001b[0;34m:\u001b[0m \u001b[0mstr\u001b[0m\u001b[0;34m,\u001b[0m \u001b[0mvalue\u001b[0m\u001b[0;34m)\u001b[0m \u001b[0;34m->\u001b[0m \u001b[0;32mNone\u001b[0m\u001b[0;34m:\u001b[0m\u001b[0;34m\u001b[0m\u001b[0;34m\u001b[0m\u001b[0m\n",
      "\u001b[0;31mAttributeError\u001b[0m: 'DataFrame' object has no attribute 'type'"
     ]
    }
   ],
   "source": [
    "print(total_df.type)"
   ]
  }
 ],
 "metadata": {
  "kernelspec": {
   "display_name": "Python 3",
   "language": "python",
   "name": "python3"
  },
  "language_info": {
   "codemirror_mode": {
    "name": "ipython",
    "version": 3
   },
   "file_extension": ".py",
   "mimetype": "text/x-python",
   "name": "python",
   "nbconvert_exporter": "python",
   "pygments_lexer": "ipython3",
   "version": "3.7.7"
  }
 },
 "nbformat": 4,
 "nbformat_minor": 4
}
