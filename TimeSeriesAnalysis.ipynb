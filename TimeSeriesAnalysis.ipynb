{
 "cells": [
  {
   "cell_type": "code",
   "execution_count": 9,
   "metadata": {},
   "outputs": [],
   "source": [
    "import numpy as np\n",
    "import os\n",
    "import pandas as pd\n",
    "import matplotlib.pyplot as plt"
   ]
  },
  {
   "cell_type": "code",
   "execution_count": 23,
   "metadata": {},
   "outputs": [],
   "source": [
    "path='/media/maria/DATA1/Documents/NeuroMatchAcademy2020_dat/unzipped_files'"
   ]
  },
  {
   "cell_type": "code",
   "execution_count": 24,
   "metadata": {},
   "outputs": [
    {
     "name": "stdout",
     "output_type": "stream",
     "text": [
      "['Lederberg_2017-12-09.tar', 'Cori_2016-12-14.tar', 'Cori_2016-12-17.tar', 'Cori_2016-12-18.tar', 'Forssmann_2017-11-01.tar', 'Forssmann_2017-11-02.tar', 'Forssmann_2017-11-04.tar', 'Forssmann_2017-11-05.tar', 'Hench_2017-06-15.tar', 'Hench_2017-06-16.tar', 'Hench_2017-06-17.tar', 'Hench_2017-06-18.tar', 'Lederberg_2017-12-05.tar', 'Lederberg_2017-12-06.tar', 'Lederberg_2017-12-07.tar', 'Lederberg_2017-12-08.tar', 'Lederberg_2017-12-10.tar', 'Lederberg_2017-12-11.tar', 'Moniz_2017-05-15.tar', 'Moniz_2017-05-16.tar', 'Moniz_2017-05-18.tar', 'Muller_2017-01-07.tar', 'Muller_2017-01-08.tar', 'Muller_2017-01-09.tar', 'Radnitz_2017-01-08.tar', 'Radnitz_2017-01-09.tar', 'Radnitz_2017-01-10.tar', 'Radnitz_2017-01-11.tar', 'Radnitz_2017-01-12.tar', 'Richards_2017-10-29.tar', 'Richards_2017-10-30.tar', 'Richards_2017-10-31.tar', 'Richards_2017-11-01.tar', 'Richards_2017-11-02.tar', 'Tatum_2017-12-06.tar', 'Tatum_2017-12-07.tar', 'Tatum_2017-12-08.tar', 'Tatum_2017-12-09.tar', 'Theiler_2017-10-11.tar']\n"
     ]
    }
   ],
   "source": [
    "files=os.listdir(path)\n",
    "print(files)"
   ]
  },
  {
   "cell_type": "code",
   "execution_count": 25,
   "metadata": {},
   "outputs": [],
   "source": [
    "selected_recording='Richards_2017-10-31.tar'\n",
    "\n",
    "midbrain_area='SCs'\n",
    "frontal_area='MOs'"
   ]
  },
  {
   "cell_type": "code",
   "execution_count": 26,
   "metadata": {},
   "outputs": [],
   "source": [
    "path_to_rec=path+'/'+selected_recording"
   ]
  },
  {
   "cell_type": "code",
   "execution_count": 27,
   "metadata": {},
   "outputs": [],
   "source": [
    "spk_tms=np.load(path_to_rec+'/'+'spikes.times.npy')\n",
    "spk_amps=np.load(path_to_rec+'/'+'spikes.amps.npy')\n",
    "spk_clusters=np.load(path_to_rec+'/'+'spikes.clusters.npy')\n",
    "clust_brain_id=np.load(path_to_rec+'/'+'clusters.originalIDs.npy')\n",
    "#brain_id=np.load(path_to_rec+'/'+'channels.sitePositions.npy')"
   ]
  },
  {
   "cell_type": "code",
   "execution_count": 32,
   "metadata": {},
   "outputs": [
    {
     "name": "stdout",
     "output_type": "stream",
     "text": [
      "(748, 4)\n"
     ]
    }
   ],
   "source": [
    "def probes_loc_one_file(one_mouse_folder):\n",
    "    path='/media/maria/DATA1/Documents/NeuroMatchAcademy2020_dat/unzipped_files/'\n",
    "    dat=pd.read_csv(path+one_mouse_folder+'/'+'channels.brainLocation.tsv', sep='\\t')\n",
    "    #dat['Mouse_Folder'] =str(one_mouse_folder)\n",
    "    return dat\n",
    "locs=probes_loc_one_file(selected_recording)\n",
    "print(locs.shape)"
   ]
  },
  {
   "cell_type": "code",
   "execution_count": 36,
   "metadata": {
    "scrolled": true
   },
   "outputs": [
    {
     "name": "stdout",
     "output_type": "stream",
     "text": [
      "     ccf_ap  ccf_dv  ccf_lr allen_ontology\n",
      "618  9376.0  1899.6  4883.1            SCs\n",
      "619  9408.0  1899.6  4883.1            SCs\n",
      "620  9392.0  1880.3  4877.9            SCs\n",
      "621  9424.0  1880.3  4877.9            SCs\n",
      "622  9376.0  1860.9  4872.7            SCs\n",
      "..      ...     ...     ...            ...\n",
      "679  9424.0  1300.7  4722.6            SCs\n",
      "680  9376.0  1281.4  4717.4            SCs\n",
      "681  9408.0  1281.4  4717.4            SCs\n",
      "682  9392.0  1262.1  4712.2            SCs\n",
      "683  9424.0  1262.1  4712.2            SCs\n",
      "\n",
      "[66 rows x 4 columns]\n"
     ]
    }
   ],
   "source": [
    "print(locs[locs['allen_ontology']==midbrain_area])"
   ]
  },
  {
   "cell_type": "code",
   "execution_count": 37,
   "metadata": {},
   "outputs": [
    {
     "name": "stdout",
     "output_type": "stream",
     "text": [
      "     ccf_ap  ccf_dv  ccf_lr allen_ontology\n",
      "110  2670.7  2760.5  5004.7            MOs\n",
      "111  2708.3  2741.2  4974.4            MOs\n",
      "112  2685.7  2741.2  4997.0            MOs\n",
      "113  2700.7  2721.8  4989.4            MOs\n",
      "114  2678.1  2721.8  5012.0            MOs\n",
      "..      ...     ...     ...            ...\n",
      "215  2891.0  1717.3  5179.7            MOs\n",
      "216  2868.4  1717.3  5202.3            MOs\n",
      "217  2906.0  1698.0  5172.0            MOs\n",
      "218  2883.4  1698.0  5194.7            MOs\n",
      "219  2898.3  1678.6  5187.0            MOs\n",
      "\n",
      "[110 rows x 4 columns]\n"
     ]
    }
   ],
   "source": [
    "print(locs[locs['allen_ontology']==frontal_area])"
   ]
  },
  {
   "cell_type": "code",
   "execution_count": 18,
   "metadata": {},
   "outputs": [],
   "source": [
    "choose_neuron_0=618\n",
    "choose_neuron_1=111"
   ]
  },
  {
   "cell_type": "code",
   "execution_count": 34,
   "metadata": {},
   "outputs": [
    {
     "name": "stdout",
     "output_type": "stream",
     "text": [
      "[1.83817219e+00 2.51670864e+00 2.60207570e+00 ... 2.59968078e+03\n",
      " 2.63170536e+03 2.86753147e+03]\n",
      "[2.36523333e+00 3.48346667e+00 3.86693333e+00 ... 2.96573793e+03\n",
      " 2.96589797e+03 2.96595787e+03]\n",
      "2867.531474601181\n"
     ]
    }
   ],
   "source": [
    "def extract_spike_train(choose_neuron,spk_clusters,spk_tms):\n",
    "    spk_ids=np.where(spk_clusters==choose_neuron)\n",
    "    spk_tms_one_neuron=spk_tms[spk_ids]\n",
    "    print(spk_tms_one_neuron)\n",
    "    return spk_tms_one_neuron\n",
    "n0_times=extract_spike_train(choose_neuron_0,spk_clusters,spk_tms)\n",
    "n1_times=extract_spike_train(choose_neuron_1,spk_clusters,spk_tms)\n",
    "print(n0_times[-1])"
   ]
  },
  {
   "cell_type": "code",
   "execution_count": 124,
   "metadata": {},
   "outputs": [
    {
     "name": "stdout",
     "output_type": "stream",
     "text": [
      "(1, 29682)\n"
     ]
    },
    {
     "data": {
      "image/png": "[encoded data removed]",
      "text/plain": [
       "<Figure size 432x288 with 1 Axes>"
      ]
     },
     "metadata": {
      "needs_background": "light"
     },
     "output_type": "display_data"
    }
   ],
   "source": [
    "import elephant.conversion as conv\n",
    "import neo \n",
    "import quantities as pq\n",
    "from elephant.statistics import instantaneous_rate\n",
    "import neo\n",
    "from quantities import Hz, s, ms\n",
    "\n",
    "#https://elephant.readthedocs.io/en/latest/reference/conversion.html\n",
    "\n",
    "final_timepoint=spk_tms[-1]\n",
    "def filter_spikes(spk_times,bin_time,final_time_point):\n",
    "    spk_tr=neo.SpikeTrain(spk_times*pq.ms, t_stop=final_time_point)\n",
    "    r=instantaneous_rate(spk_tr, sampling_period=0.000033*pq.s, kernel='auto', cutoff=5.0)\n",
    "    #binned = conv.BinnedSpikeTrain(spk_tr, binsize=bin_time * pq.s,t_start=0 * pq.s).to_array()\n",
    "    return r #binned\n",
    "\n",
    "bin_time=0.1\n",
    "r_0=filter_spikes(n0_times,bin_time,final_time_point)\n",
    "print(binned_0.shape)\n",
    "import matplotlib.pyplot as plt\n",
    "\n",
    "plt.plot(r_0)\n",
    "plt.show()\n",
    "#plt.eventplot(binned_0)\n",
    "#plt.show()"
   ]
  },
  {
   "cell_type": "code",
   "execution_count": 126,
   "metadata": {
    "scrolled": true
   },
   "outputs": [
    {
     "data": {
      "image/png": "[encoded data removed]",
      "text/plain": [
       "<Figure size 432x288 with 1 Axes>"
      ]
     },
     "metadata": {
      "needs_background": "light"
     },
     "output_type": "display_data"
    }
   ],
   "source": [
    "r_1=filter_spikes(n1_times,bin_time,final_time_point)\n",
    "plt.plot(r_1)\n",
    "plt.show()"
   ]
  },
  {
   "cell_type": "code",
   "execution_count": 2,
   "metadata": {},
   "outputs": [],
   "source": [
    "#behavior\n",
    "mot_en=np.load('/media/maria/DATA1/Documents/NeuroMatchAcademy2020_dat/unzipped_files/Richards_2017-10-31.tar/face.motionEnergy.npy')"
   ]
  },
  {
   "cell_type": "code",
   "execution_count": 3,
   "metadata": {
    "scrolled": false
   },
   "outputs": [
    {
     "name": "stdout",
     "output_type": "stream",
     "text": [
      "(118268, 1)\n",
      "[[-0.00647372]\n",
      " [ 0.09287304]\n",
      " [ 0.08490538]\n",
      " ...\n",
      " [ 1.36147391]\n",
      " [ 1.69262977]\n",
      " [ 1.8606976 ]]\n"
     ]
    },
    {
     "data": {
      "text/plain": [
       "118728"
      ]
     },
     "execution_count": 3,
     "metadata": {},
     "output_type": "execute_result"
    }
   ],
   "source": [
    "print(mot_en.shape)\n",
    "print(mot_en)\n",
    "29682*4"
   ]
  },
  {
   "cell_type": "code",
   "execution_count": 5,
   "metadata": {},
   "outputs": [],
   "source": [
    "mot_timestamps=np.load('/media/maria/DATA1/Documents/NeuroMatchAcademy2020_dat/unzipped_files/Richards_2017-10-31.tar/face.timestamps.npy')"
   ]
  },
  {
   "cell_type": "code",
   "execution_count": 17,
   "metadata": {},
   "outputs": [
    {
     "name": "stdout",
     "output_type": "stream",
     "text": [
      "(118268, 2)\n",
      "[[0.00000000e+00 1.36147226e+01]\n",
      " [1.00000000e+00 1.36399684e+01]\n",
      " [2.00000000e+00 1.36652142e+01]\n",
      " ...\n",
      " [1.18265000e+05 2.99930658e+03]\n",
      " [1.18266000e+05 2.99933183e+03]\n",
      " [1.18267000e+05 2.99935707e+03]]\n",
      "[0.02524578 0.02524578 0.02524578 ... 0.02524578 0.02524578 0.02524578]\n",
      "[118267.           2999.35707372]\n"
     ]
    },
    {
     "data": {
      "image/png": "[encoded data removed]",
      "text/plain": [
       "<Figure size 432x288 with 1 Axes>"
      ]
     },
     "metadata": {
      "needs_background": "light"
     },
     "output_type": "display_data"
    }
   ],
   "source": [
    "print(mot_timestamps.shape)\n",
    "print(mot_timestamps)\n",
    "plt.plot(mot_timestamps[:,1])\n",
    "print(np.diff(mot_timestamps[:,1]))\n",
    "print(mot_timestamps[-1])"
   ]
  },
  {
   "cell_type": "code",
   "execution_count": null,
   "metadata": {},
   "outputs": [],
   "source": [
    "print(np.load('/media/maria/DATA1/Documents/NeuroMatchAcademy2020_dat/unzipped_files/Richards_2017-10-31.tar/face.timestamps.npy'))"
   ]
  },
  {
   "cell_type": "code",
   "execution_count": 138,
   "metadata": {},
   "outputs": [
    {
     "name": "stdout",
     "output_type": "stream",
     "text": [
      "[1.83817219e+00 2.51670864e+00 2.60207570e+00 ... 2.59968078e+03\n",
      " 2.63170536e+03 2.86753147e+03]\n",
      "(6047,)\n"
     ]
    }
   ],
   "source": [
    "print(n0_times)\n",
    "print(n0_times.shape)"
   ]
  },
  {
   "cell_type": "code",
   "execution_count": 139,
   "metadata": {},
   "outputs": [
    {
     "name": "stdout",
     "output_type": "stream",
     "text": [
      "(4703292, 1)\n"
     ]
    }
   ],
   "source": [
    "print(spk_tms.shape)"
   ]
  },
  {
   "cell_type": "code",
   "execution_count": 142,
   "metadata": {
    "scrolled": true
   },
   "outputs": [
    {
     "data": {
      "text/plain": [
       "[<matplotlib.lines.Line2D at 0x7f766cde1990>]"
      ]
     },
     "execution_count": 142,
     "metadata": {},
     "output_type": "execute_result"
    },
    {
     "data": {
      "image/png": "[encoded data removed]",
      "text/plain": [
       "<Figure size 432x288 with 1 Axes>"
      ]
     },
     "metadata": {
      "needs_background": "light"
     },
     "output_type": "display_data"
    }
   ],
   "source": [
    "plt.plot(mot_en[:100])"
   ]
  },
  {
   "cell_type": "code",
   "execution_count": 33,
   "metadata": {},
   "outputs": [
    {
     "name": "stdout",
     "output_type": "stream",
     "text": [
      "[[ 59.37929481  65.95545912]\n",
      " [ 65.96575778  69.50249116]\n",
      " [ 69.51253654  73.08582237]\n",
      " [ 73.09550189  78.00456997]\n",
      " [ 78.01508295  82.79628506]\n",
      " [ 82.80610314  87.1568333 ]\n",
      " [ 87.16816346  91.63813722]\n",
      " [ 91.64809325  93.96952355]\n",
      " [ 93.98022641  96.03474647]\n",
      " [ 96.04508014 101.03457593]\n",
      " [101.04482629 106.95263097]\n",
      " [106.96268209 111.28591686]\n",
      " [111.29589795 117.30855691]\n",
      " [117.31914235 121.43442908]\n",
      " [121.44458375 123.85065407]\n",
      " [123.86153354 128.43316596]\n",
      " [128.44358174 132.91962313]\n",
      " [132.92996858 137.63433736]\n",
      " [137.64465926 141.35312662]\n",
      " [141.3636713  143.55153901]\n",
      " [143.56172598 146.11874369]\n",
      " [146.12908702 152.61619733]\n",
      " [152.62685461 157.84885359]\n",
      " [157.85935269 161.7594181 ]\n",
      " [161.76967268 165.36783456]\n",
      " [165.37808915 170.65625832]\n",
      " [170.66697115 175.50316344]\n",
      " [175.5137682  177.69889189]\n",
      " [177.70912051 183.99665882]\n",
      " [184.00798113 186.24974081]\n",
      " [186.25994287 190.74964335]\n",
      " [190.76107493 192.84956945]\n",
      " [192.85988441 201.08407451]\n",
      " [201.09504332 204.91940712]\n",
      " [204.92965174 207.53230161]\n",
      " [207.54289127 211.43077826]\n",
      " [211.44160339 213.53344144]\n",
      " [213.54423094 217.58176817]\n",
      " [217.59229535 221.33751288]\n",
      " [221.34784928 225.04877014]\n",
      " [225.05970816 230.94783261]\n",
      " [230.95828673 235.18161793]\n",
      " [235.19247777 237.84982318]\n",
      " [237.86085418 240.32923538]\n",
      " [240.33959623 246.94644219]\n",
      " [246.95728421 250.92053743]\n",
      " [250.93150836 254.92120374]\n",
      " [254.93176231 259.04056574]\n",
      " [259.0515578  262.16097802]\n",
      " [262.17178986 266.39439415]\n",
      " [266.40509128 268.49276289]\n",
      " [268.50304374 270.74286691]\n",
      " [270.75349189 274.79628955]\n",
      " [274.80735436 276.8422947 ]\n",
      " [276.85336675 283.99593921]\n",
      " [284.00617116 286.52420544]\n",
      " [286.53487782 289.22748187]\n",
      " [289.2375508  298.71041772]\n",
      " [298.72086671 302.26420354]\n",
      " [302.274712   304.17517568]\n",
      " [304.1854197  306.39092186]\n",
      " [306.40192116 309.30793018]\n",
      " [309.31813707 312.29268548]\n",
      " [312.3029455  314.34151676]\n",
      " [314.35183534 317.90190421]\n",
      " [317.91243289 324.53443614]\n",
      " [324.5452513  327.00830838]\n",
      " [327.01927629 329.42834722]\n",
      " [329.43991495 332.04279575]\n",
      " [332.05306332 334.40790358]\n",
      " [334.41908581 336.85941437]\n",
      " [336.86993611 343.12268279]\n",
      " [343.13428795 348.10462151]\n",
      " [348.11511186 351.52169984]\n",
      " [351.53249598 354.05399243]\n",
      " [354.06489121 356.3725154 ]\n",
      " [356.38302356 361.97192963]\n",
      " [361.98259959 368.90579002]\n",
      " [368.91650647 372.54248403]\n",
      " [372.55378913 375.00738314]\n",
      " [375.01848658 378.59371496]\n",
      " [378.60445375 380.97046991]\n",
      " [380.98104448 383.70396732]\n",
      " [383.71520873 386.34020948]\n",
      " [386.35062255 388.50504709]\n",
      " [388.51569109 390.85452369]\n",
      " [390.86517765 393.28766014]\n",
      " [393.2982317  395.60455572]\n",
      " [395.61531171 398.00471388]\n",
      " [398.01564044 400.35534484]\n",
      " [400.36607065 404.1237401 ]\n",
      " [404.13464824 406.63480356]\n",
      " [406.64545631 409.13739438]\n",
      " [409.14837769 413.14298874]\n",
      " [413.15407559 416.48660234]\n",
      " [416.49719109 419.73560537]\n",
      " [419.74635503 422.68580571]\n",
      " [422.69678659 425.65488661]\n",
      " [425.66575611 428.08860659]\n",
      " [428.09994399 431.98357791]\n",
      " [431.99453314 436.07010109]\n",
      " [436.081021   441.35102363]\n",
      " [441.36182189 446.63768537]\n",
      " [446.64890836 448.96997852]\n",
      " [448.98149946 451.20387655]\n",
      " [451.21579113 453.24982344]\n",
      " [453.26145456 455.21929382]\n",
      " [455.2299825  458.67147954]\n",
      " [458.68265815 460.74954559]\n",
      " [460.76014311 463.78490035]\n",
      " [463.79674972 470.38763723]\n",
      " [470.3986643  474.15178665]\n",
      " [474.16377368 476.21737785]\n",
      " [476.22822471 484.51585196]\n",
      " [484.52729502 487.36403653]\n",
      " [487.37524684 489.83135755]\n",
      " [489.84205649 494.09732754]\n",
      " [494.1089659  498.03055507]\n",
      " [498.04236611 501.63335612]\n",
      " [501.64423679 505.90198982]\n",
      " [505.91289011 511.64746655]\n",
      " [511.65865452 515.16765433]\n",
      " [515.17916712 517.76331495]\n",
      " [517.77433116 520.02962194]\n",
      " [520.04051046 522.51589659]\n",
      " [522.52685122 524.56680928]\n",
      " [524.57793235 530.08205078]\n",
      " [530.09329158 533.21253259]\n",
      " [533.22337371 535.66238912]\n",
      " [535.67352457 539.30739245]\n",
      " [539.3192699  542.14648916]\n",
      " [542.15762854 544.87839511]\n",
      " [544.88946264 548.79685568]\n",
      " [548.80799143 552.47448924]\n",
      " [552.48582574 554.93060539]\n",
      " [554.94158809 557.39652271]\n",
      " [557.40801437 562.29325811]\n",
      " [562.30503383 565.22806872]\n",
      " [565.23987704 567.84335584]\n",
      " [567.85567101 572.09731042]\n",
      " [572.10919512 574.64397695]\n",
      " [574.655468   577.24557238]\n",
      " [577.25727866 579.34748751]\n",
      " [579.35943802 582.08032081]\n",
      " [582.09185684 589.87884627]\n",
      " [589.89103585 592.19316839]\n",
      " [592.20483754 594.50891685]\n",
      " [594.52048307 598.43064126]\n",
      " [598.44254859 605.48969725]\n",
      " [605.50148384 609.35138479]\n",
      " [609.36593048 611.87891445]\n",
      " [611.89102162 615.27741588]\n",
      " [615.28916564 617.55839686]\n",
      " [617.57012187 620.26007004]\n",
      " [620.27212288 622.89183665]\n",
      " [622.90457806 628.58377339]\n",
      " [628.59521615 631.88527556]\n",
      " [631.89718682 635.39045247]\n",
      " [635.40213068 637.9754549 ]\n",
      " [637.98672559 641.60999988]\n",
      " [641.62211732 647.07306435]\n",
      " [647.08560048 650.59975113]\n",
      " [650.61187037 652.97793876]\n",
      " [652.9898476  655.82461094]\n",
      " [655.83632598 658.30792725]\n",
      " [658.31990764 663.00430216]\n",
      " [663.01659107 666.30613186]\n",
      " [666.31846333 669.12282818]\n",
      " [669.13598043 671.34322619]\n",
      " [671.35543842 675.80072691]\n",
      " [675.8127882  678.28807623]\n",
      " [678.30028936 683.34477381]\n",
      " [683.35715388 687.1938268 ]\n",
      " [687.20673846 689.30387316]\n",
      " [689.31594381 694.12258375]\n",
      " [694.13444973 697.72555535]\n",
      " [697.73722451 700.28819935]\n",
      " [700.30008767 702.43826727]\n",
      " [702.45023981 706.47215336]\n",
      " [706.48400666 709.14035047]\n",
      " [709.15234534 712.35736354]\n",
      " [712.36915164 714.67475268]\n",
      " [714.68630139 719.7217958 ]\n",
      " [719.73380003 727.58769452]\n",
      " [727.59987595 730.70766244]\n",
      " [730.71983361 732.97137544]\n",
      " [732.98384516 735.36900271]\n",
      " [735.38159077 737.83566868]\n",
      " [737.84780815 740.25288592]\n",
      " [740.26547458 744.51702113]\n",
      " [744.52905344 747.6713152 ]\n",
      " [747.68381873 752.27463903]\n",
      " [752.28738104 755.43674584]\n",
      " [755.4483504  757.8239694 ]\n",
      " [757.83631837 763.00640325]\n",
      " [763.01898979 766.65331531]\n",
      " [766.6654726  769.01909541]\n",
      " [769.03238984 772.017428  ]\n",
      " [772.0297338  774.13812107]\n",
      " [774.15144992 776.80486195]\n",
      " [776.81766282 781.1696367 ]\n",
      " [781.18161618 783.35119619]\n",
      " [783.36365806 791.48765901]\n",
      " [791.50085986 794.26868131]\n",
      " [794.28118575 796.5226028 ]\n",
      " [796.53488838 798.69968402]\n",
      " [798.71179905 802.57283212]\n",
      " [802.5848433  805.16878617]\n",
      " [805.1810802  807.50205467]\n",
      " [807.51549762 810.20316305]\n",
      " [810.21542931 812.55052323]\n",
      " [812.56260716 815.00253301]\n",
      " [815.01568557 817.4513514 ]\n",
      " [817.463397   819.66997562]\n",
      " [819.68282963 823.95987016]\n",
      " [823.97241656 829.48661207]\n",
      " [829.49917658 831.59846634]\n",
      " [831.61210551 834.01945698]\n",
      " [834.0323143  837.53717756]\n",
      " [837.54935598 842.04522672]\n",
      " [842.05773327 845.9480138 ]\n",
      " [845.95982544 849.67394293]\n",
      " [849.68703783 853.1836461 ]\n",
      " [853.19614027 856.68058824]\n",
      " [856.70405002 860.01610352]\n",
      " [860.02845702 862.14832447]\n",
      " [862.16064839 865.49938101]\n",
      " [865.51185556 867.66598275]\n",
      " [867.67862454 869.94902008]\n",
      " [869.96178172 872.16786739]\n",
      " [872.1831587  876.46407768]\n",
      " [876.47772923 880.17856829]\n",
      " [880.19150018 884.12031102]\n",
      " [884.13328095 886.71219584]\n",
      " [886.72451825 889.54601341]\n",
      " [889.55917865 891.99747922]\n",
      " [892.01056658 896.99984743]\n",
      " [897.01378092 900.73662764]\n",
      " [900.74912815 904.41054969]\n",
      " [904.42336294 906.6830849 ]\n",
      " [906.69587611 908.89573206]\n",
      " [908.90835573 911.27739936]\n",
      " [911.29070467 913.81162032]\n",
      " [913.82503943 920.96732481]\n",
      " [920.9799346  924.57184079]\n",
      " [924.58543166 927.21180533]\n",
      " [927.2254762  930.07866881]\n",
      " [930.09264759 932.59402006]\n",
      " [932.60678803 936.11082597]\n",
      " [936.12330052 939.34280495]\n",
      " [939.35520463 947.71211509]\n",
      " [947.7249051  951.11950575]\n",
      " [951.13223085 955.08588817]\n",
      " [955.09861327 958.6733662 ]\n",
      " [958.68602459 962.25908884]\n",
      " [962.27213605 965.87018744]\n",
      " [965.88364187 969.17495224]\n",
      " [969.18774195 972.86655341]\n",
      " [972.87936576 976.20931421]\n",
      " [976.22344    979.85990761]]\n"
     ]
    }
   ],
   "source": [
    "trial_times=np.load('/media/maria/DATA1/Documents/NeuroMatchAcademy2020_dat/unzipped_files/Richards_2017-10-31.tar/trials.intervals.npy')\n",
    "print(trial_times)"
   ]
  },
  {
   "cell_type": "code",
   "execution_count": 43,
   "metadata": {},
   "outputs": [
    {
     "name": "stdout",
     "output_type": "stream",
     "text": [
      "(6047,)\n"
     ]
    },
    {
     "ename": "TypeError",
     "evalue": "ufunc 'bitwise_and' not supported for the input types, and the inputs could not be safely coerced to any supported types according to the casting rule ''safe''",
     "output_type": "error",
     "traceback": [
      "\u001b[0;31m---------------------------------------------------------------------------\u001b[0m",
      "\u001b[0;31mTypeError\u001b[0m                                 Traceback (most recent call last)",
      "\u001b[0;32m<ipython-input-43-b81018b55e3d>\u001b[0m in \u001b[0;36m<module>\u001b[0;34m\u001b[0m\n\u001b[1;32m      8\u001b[0m     \u001b[0mprint\u001b[0m\u001b[0;34m(\u001b[0m\u001b[0mneuron_spikes\u001b[0m\u001b[0;34m[\u001b[0m\u001b[0mcondlist\u001b[0m\u001b[0;34m]\u001b[0m\u001b[0;34m)\u001b[0m\u001b[0;34m\u001b[0m\u001b[0;34m\u001b[0m\u001b[0m\n\u001b[1;32m      9\u001b[0m \u001b[0;34m\u001b[0m\u001b[0m\n\u001b[0;32m---> 10\u001b[0;31m \u001b[0mselect_trial\u001b[0m\u001b[0;34m(\u001b[0m\u001b[0;36m0\u001b[0m\u001b[0;34m,\u001b[0m\u001b[0mtrial_times\u001b[0m\u001b[0;34m,\u001b[0m\u001b[0mneuron_dat\u001b[0m\u001b[0;34m,\u001b[0m\u001b[0mmot_en\u001b[0m\u001b[0;34m)\u001b[0m\u001b[0;34m\u001b[0m\u001b[0;34m\u001b[0m\u001b[0m\n\u001b[0m",
      "\u001b[0;32m<ipython-input-43-b81018b55e3d>\u001b[0m in \u001b[0;36mselect_trial\u001b[0;34m(trial_index, trial_times, neuron_dat, mot_en)\u001b[0m\n\u001b[1;32m      4\u001b[0m     \u001b[0mneuron_spikes\u001b[0m\u001b[0;34m=\u001b[0m\u001b[0mneuron_dat\u001b[0m\u001b[0;34m\u001b[0m\u001b[0;34m\u001b[0m\u001b[0m\n\u001b[1;32m      5\u001b[0m     \u001b[0mprint\u001b[0m\u001b[0;34m(\u001b[0m\u001b[0mneuron_spikes\u001b[0m\u001b[0;34m.\u001b[0m\u001b[0mshape\u001b[0m\u001b[0;34m)\u001b[0m\u001b[0;34m\u001b[0m\u001b[0;34m\u001b[0m\u001b[0m\n\u001b[0;32m----> 6\u001b[0;31m     \u001b[0mcondlist\u001b[0m \u001b[0;34m=\u001b[0m \u001b[0mnp\u001b[0m\u001b[0;34m.\u001b[0m\u001b[0mselect\u001b[0m\u001b[0;34m(\u001b[0m\u001b[0mneuron_spikes\u001b[0m\u001b[0;34m>=\u001b[0m\u001b[0mtrial_times\u001b[0m\u001b[0;34m[\u001b[0m\u001b[0mtrial_index\u001b[0m\u001b[0;34m]\u001b[0m\u001b[0;34m[\u001b[0m\u001b[0;36m0\u001b[0m\u001b[0;34m]\u001b[0m\u001b[0;34m&\u001b[0m\u001b[0mneuron_spikes\u001b[0m\u001b[0;34m<=\u001b[0m\u001b[0mtrial_times\u001b[0m\u001b[0;34m[\u001b[0m\u001b[0mtrial_index\u001b[0m\u001b[0;34m]\u001b[0m\u001b[0;34m[\u001b[0m\u001b[0;36m1\u001b[0m\u001b[0;34m]\u001b[0m\u001b[0;34m)\u001b[0m\u001b[0;34m\u001b[0m\u001b[0;34m\u001b[0m\u001b[0m\n\u001b[0m\u001b[1;32m      7\u001b[0m     \u001b[0mprint\u001b[0m\u001b[0;34m(\u001b[0m\u001b[0mcondlist\u001b[0m\u001b[0;34m.\u001b[0m\u001b[0mshape\u001b[0m\u001b[0;34m)\u001b[0m\u001b[0;34m\u001b[0m\u001b[0;34m\u001b[0m\u001b[0m\n\u001b[1;32m      8\u001b[0m     \u001b[0mprint\u001b[0m\u001b[0;34m(\u001b[0m\u001b[0mneuron_spikes\u001b[0m\u001b[0;34m[\u001b[0m\u001b[0mcondlist\u001b[0m\u001b[0;34m]\u001b[0m\u001b[0;34m)\u001b[0m\u001b[0;34m\u001b[0m\u001b[0;34m\u001b[0m\u001b[0m\n",
      "\u001b[0;31mTypeError\u001b[0m: ufunc 'bitwise_and' not supported for the input types, and the inputs could not be safely coerced to any supported types according to the casting rule ''safe''"
     ]
    }
   ],
   "source": [
    "neuron_dat=n0_times\n",
    "\n",
    "def select_trial(trial_index,trial_times,neuron_dat,mot_en):\n",
    "    neuron_spikes=neuron_dat\n",
    "    print(neuron_spikes.shape)\n",
    "    condlist = np.select(neuron_spikes>=trial_times[trial_index][0]&neuron_spikes<=trial_times[trial_index][1])\n",
    "    print(condlist.shape)\n",
    "    print(neuron_spikes[condlist])\n",
    "\n",
    "select_trial(0,trial_times,neuron_dat,mot_en)"
   ]
  }
 ],
 "metadata": {
  "kernelspec": {
   "display_name": "Python 3",
   "language": "python",
   "name": "python3"
  },
  "language_info": {
   "codemirror_mode": {
    "name": "ipython",
    "version": 3
   },
   "file_extension": ".py",
   "mimetype": "text/x-python",
   "name": "python",
   "nbconvert_exporter": "python",
   "pygments_lexer": "ipython3",
   "version": "3.7.7"
  }
 },
 "nbformat": 4,
 "nbformat_minor": 4
}
