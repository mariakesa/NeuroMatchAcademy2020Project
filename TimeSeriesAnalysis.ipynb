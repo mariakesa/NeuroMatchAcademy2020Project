{
 "cells": [
  {
   "cell_type": "code",
   "execution_count": 30,
   "metadata": {},
   "outputs": [],
   "source": [
    "import numpy as np\n",
    "import os\n",
    "import pandas as pd"
   ]
  },
  {
   "cell_type": "code",
   "execution_count": 5,
   "metadata": {},
   "outputs": [],
   "source": [
    "path='/media/maria/DATA1/Documents/NeuroMatchAcademy2020_dat/unzipped_files'"
   ]
  },
  {
   "cell_type": "code",
   "execution_count": 7,
   "metadata": {},
   "outputs": [
    {
     "name": "stdout",
     "output_type": "stream",
     "text": [
      "['Lederberg_2017-12-09.tar', 'Cori_2016-12-14.tar', 'Cori_2016-12-17.tar', 'Cori_2016-12-18.tar', 'Forssmann_2017-11-01.tar', 'Forssmann_2017-11-02.tar', 'Forssmann_2017-11-04.tar', 'Forssmann_2017-11-05.tar', 'Hench_2017-06-15.tar', 'Hench_2017-06-16.tar', 'Hench_2017-06-17.tar', 'Hench_2017-06-18.tar', 'Lederberg_2017-12-05.tar', 'Lederberg_2017-12-06.tar', 'Lederberg_2017-12-07.tar', 'Lederberg_2017-12-08.tar', 'Lederberg_2017-12-10.tar', 'Lederberg_2017-12-11.tar', 'Moniz_2017-05-15.tar', 'Moniz_2017-05-16.tar', 'Moniz_2017-05-18.tar', 'Muller_2017-01-07.tar', 'Muller_2017-01-08.tar', 'Muller_2017-01-09.tar', 'Radnitz_2017-01-08.tar', 'Radnitz_2017-01-09.tar', 'Radnitz_2017-01-10.tar', 'Radnitz_2017-01-11.tar', 'Radnitz_2017-01-12.tar', 'Richards_2017-10-29.tar', 'Richards_2017-10-30.tar', 'Richards_2017-10-31.tar', 'Richards_2017-11-01.tar', 'Richards_2017-11-02.tar', 'Tatum_2017-12-06.tar', 'Tatum_2017-12-07.tar', 'Tatum_2017-12-08.tar', 'Tatum_2017-12-09.tar', 'Theiler_2017-10-11.tar']\n"
     ]
    }
   ],
   "source": [
    "files=os.listdir(path)\n",
    "print(files)"
   ]
  },
  {
   "cell_type": "code",
   "execution_count": 34,
   "metadata": {},
   "outputs": [],
   "source": [
    "selected_recording='Richards_2017-10-31.tar'\n",
    "\n",
    "midbrain_area='SCs'\n",
    "frontal_area='MOs'"
   ]
  },
  {
   "cell_type": "code",
   "execution_count": 9,
   "metadata": {},
   "outputs": [],
   "source": [
    "path_to_rec=path+'/'+selected_recording"
   ]
  },
  {
   "cell_type": "code",
   "execution_count": 27,
   "metadata": {},
   "outputs": [],
   "source": [
    "spk_tms=np.load(path_to_rec+'/'+'spikes.times.npy')\n",
    "spk_amps=np.load(path_to_rec+'/'+'spikes.amps.npy')\n",
    "spk_clusters=np.load(path_to_rec+'/'+'spikes.clusters.npy')\n",
    "clust_brain_id=np.load(path_to_rec+'/'+'clusters.originalIDs.npy')\n",
    "#brain_id=np.load(path_to_rec+'/'+'channels.sitePositions.npy')"
   ]
  },
  {
   "cell_type": "code",
   "execution_count": 32,
   "metadata": {},
   "outputs": [
    {
     "name": "stdout",
     "output_type": "stream",
     "text": [
      "(748, 4)\n"
     ]
    }
   ],
   "source": [
    "def probes_loc_one_file(one_mouse_folder):\n",
    "    path='/media/maria/DATA1/Documents/NeuroMatchAcademy2020_dat/unzipped_files/'\n",
    "    dat=pd.read_csv(path+one_mouse_folder+'/'+'channels.brainLocation.tsv', sep='\\t')\n",
    "    #dat['Mouse_Folder'] =str(one_mouse_folder)\n",
    "    return dat\n",
    "locs=probes_loc_one_file(selected_recording)\n",
    "print(locs.shape)"
   ]
  },
  {
   "cell_type": "code",
   "execution_count": 36,
   "metadata": {
    "scrolled": true
   },
   "outputs": [
    {
     "name": "stdout",
     "output_type": "stream",
     "text": [
      "     ccf_ap  ccf_dv  ccf_lr allen_ontology\n",
      "618  9376.0  1899.6  4883.1            SCs\n",
      "619  9408.0  1899.6  4883.1            SCs\n",
      "620  9392.0  1880.3  4877.9            SCs\n",
      "621  9424.0  1880.3  4877.9            SCs\n",
      "622  9376.0  1860.9  4872.7            SCs\n",
      "..      ...     ...     ...            ...\n",
      "679  9424.0  1300.7  4722.6            SCs\n",
      "680  9376.0  1281.4  4717.4            SCs\n",
      "681  9408.0  1281.4  4717.4            SCs\n",
      "682  9392.0  1262.1  4712.2            SCs\n",
      "683  9424.0  1262.1  4712.2            SCs\n",
      "\n",
      "[66 rows x 4 columns]\n"
     ]
    }
   ],
   "source": [
    "print(locs[locs['allen_ontology']==midbrain_area])"
   ]
  },
  {
   "cell_type": "code",
   "execution_count": 37,
   "metadata": {},
   "outputs": [
    {
     "name": "stdout",
     "output_type": "stream",
     "text": [
      "     ccf_ap  ccf_dv  ccf_lr allen_ontology\n",
      "110  2670.7  2760.5  5004.7            MOs\n",
      "111  2708.3  2741.2  4974.4            MOs\n",
      "112  2685.7  2741.2  4997.0            MOs\n",
      "113  2700.7  2721.8  4989.4            MOs\n",
      "114  2678.1  2721.8  5012.0            MOs\n",
      "..      ...     ...     ...            ...\n",
      "215  2891.0  1717.3  5179.7            MOs\n",
      "216  2868.4  1717.3  5202.3            MOs\n",
      "217  2906.0  1698.0  5172.0            MOs\n",
      "218  2883.4  1698.0  5194.7            MOs\n",
      "219  2898.3  1678.6  5187.0            MOs\n",
      "\n",
      "[110 rows x 4 columns]\n"
     ]
    }
   ],
   "source": [
    "print(locs[locs['allen_ontology']==frontal_area])"
   ]
  },
  {
   "cell_type": "code",
   "execution_count": 38,
   "metadata": {},
   "outputs": [],
   "source": [
    "choose_neuron_0=618\n",
    "choose_neuron_1=111"
   ]
  },
  {
   "cell_type": "code",
   "execution_count": 70,
   "metadata": {},
   "outputs": [
    {
     "name": "stdout",
     "output_type": "stream",
     "text": [
      "[1.83817219e+00 2.51670864e+00 2.60207570e+00 ... 2.59968078e+03\n",
      " 2.63170536e+03 2.86753147e+03]\n",
      "[2.36523333e+00 3.48346667e+00 3.86693333e+00 ... 2.96573793e+03\n",
      " 2.96589797e+03 2.96595787e+03]\n"
     ]
    }
   ],
   "source": [
    "def extract_spike_train(choose_neuron,spk_clusters,spk_tms):\n",
    "    spk_ids=np.where(spk_clusters==choose_neuron)\n",
    "    spk_tms_one_neuron=spk_tms[spk_ids]\n",
    "    print(spk_tms_one_neuron)\n",
    "    return spk_tms_one_neuron\n",
    "n0_times=extract_spike_train(choose_neuron_0,spk_clusters,spk_tms)\n",
    "n1_times=extract_spike_train(choose_neuron_1,spk_clusters,spk_tms)"
   ]
  },
  {
   "cell_type": "code",
   "execution_count": 121,
   "metadata": {},
   "outputs": [
    {
     "name": "stdout",
     "output_type": "stream",
     "text": [
      "(1, 29682)\n"
     ]
    },
    {
     "data": {
      "image/png": "[encoded data removed]",
      "text/plain": [
       "<Figure size 432x288 with 1 Axes>"
      ]
     },
     "metadata": {
      "needs_background": "light"
     },
     "output_type": "display_data"
    },
    {
     "data": {
      "image/png": "[encoded data removed]",
      "text/plain": [
       "<Figure size 432x288 with 1 Axes>"
      ]
     },
     "metadata": {
      "needs_background": "light"
     },
     "output_type": "display_data"
    }
   ],
   "source": [
    "import elephant.conversion as conv\n",
    "import neo \n",
    "import quantities as pq\n",
    "from elephant.statistics import instantaneous_rate\n",
    "import neo\n",
    "from quantities import Hz, s, ms\n",
    "\n",
    "#https://elephant.readthedocs.io/en/latest/reference/conversion.html\n",
    "\n",
    "final_timepoint=spk_tms[-1]\n",
    "def bin_and_rate_spikes(spk_times,bin_time,final_time_point):\n",
    "    spk_tr=neo.SpikeTrain(spk_times*pq.s, t_stop=final_time_point)\n",
    "    r=instantaneous_rate(spk_tr, sampling_period=0.000033*pq.s, kernel='auto', cutoff=5.0)\n",
    "    #binned = conv.BinnedSpikeTrain(spk_tr, binsize=bin_time * pq.s,t_start=0 * pq.s).to_array()\n",
    "    return r #binned\n",
    "\n",
    "bin_time=0.1\n",
    "r_0=bin_and_rate_spikes(n0_times,bin_time,final_time_point)\n",
    "print(binned_0.shape)\n",
    "import matplotlib.pyplot as plt\n",
    "\n",
    "plt.plot(r_0)\n",
    "plt.show()\n",
    "#plt.eventplot(binned_0)\n",
    "#plt.show()"
   ]
  },
  {
   "cell_type": "code",
   "execution_count": null,
   "metadata": {},
   "outputs": [],
   "source": [
    "print()"
   ]
  },
  {
   "cell_type": "code",
   "execution_count": null,
   "metadata": {},
   "outputs": [],
   "source": [
    "import elephant.conversion as conv\n",
    "import neo as n\n",
    "import quantities as pq\n",
    "a = n.SpikeTrain(b* pq.s,\n",
    "                 t_stop=10.0 * pq.s)\n",
    "x = conv.BinnedSpikeTrain(a, num_bins=10, binsize=1 * pq.s,\n",
    "                          t_start=0 * pq.s)"
   ]
  }
 ],
 "metadata": {
  "kernelspec": {
   "display_name": "Python 3",
   "language": "python",
   "name": "python3"
  },
  "language_info": {
   "codemirror_mode": {
    "name": "ipython",
    "version": 3
   },
   "file_extension": ".py",
   "mimetype": "text/x-python",
   "name": "python",
   "nbconvert_exporter": "python",
   "pygments_lexer": "ipython3",
   "version": "3.7.7"
  }
 },
 "nbformat": 4,
 "nbformat_minor": 4
}
