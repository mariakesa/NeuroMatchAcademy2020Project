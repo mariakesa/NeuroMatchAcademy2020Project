{
 "cells": [
  {
   "cell_type": "code",
   "execution_count": 9,
   "metadata": {
    "scrolled": true
   },
   "outputs": [],
   "source": [
    "import sys\n",
    "sys.path.append('../')\n",
    "import os\n",
    "\n",
    "# Set up VTKPLOTTER to work in Jupyter notebooks\n",
    "from vtkplotter import *\n",
    "\n",
    "# Import variables\n",
    "from brainrender import * # <- these can be changed to personalize the look of your renders\n",
    "\n",
    "# Import scene class\n",
    "from brainrender.scene import Scene"
   ]
  },
  {
   "cell_type": "code",
   "execution_count": 4,
   "metadata": {
    "scrolled": true
   },
   "outputs": [
    {
     "name": "stdout",
     "output_type": "stream",
     "text": [
      "Creating folder at: /home/maria/.brainrender/Data/Meshes/Mouse\n",
      "Creating folder at: /home/maria/.brainrender/Data/Meshes/Other\n",
      "Creating folder at: /home/maria/.brainrender/Data/Morphology/Allen\n",
      "Creating folder at: /home/maria/.brainrender/Data/Morphology/cache\n",
      "Creating folder at: /home/maria/.brainrender/Data/Morphology/MouseLight\n",
      "Creating folder at: /home/maria/.brainrender/Data/ABA/MCC\n",
      "Creating folder at: /home/maria/.brainrender/Data/ABA/MCTC\n",
      "Creating folder at: /home/maria/.brainrender/Data/Streamlines\n",
      "Creating folder at: /home/maria/.brainrender/Output/Screenshots\n",
      "Creating folder at: /home/maria/.brainrender/Output/Videos\n",
      "Creating folder at: /home/maria/.brainrender/Output/Scenes\n",
      "Creating folder at: /home/maria/.brainrender/Output/Data\n",
      "Creating folder at: /home/maria/.brainrender/User\n",
      "Creating folder at: /home/maria/.brainrender/Data/Metadata\n",
      "Creating folder at: /home/maria/.brainrender/Data/ABA/Volumetric\n",
      "Creating folder at: /home/maria/.brainrender/Data/ABA/Volumetric/cache\n",
      "Creating folder at: /home/maria/.brainrender/Data/InsectsDBs\n",
      "Creating folder at: /home/maria/.brainrender/Data/Zfish\n"
     ]
    },
    {
     "name": "stderr",
     "output_type": "stream",
     "text": [
      "2020-07-17 23:12:29,759 allensdk.api.api.retrieve_file_over_http INFO     Downloading URL: http://download.alleninstitute.org/informatics-archive/current-release/mouse_ccf/annotation/ccf_2017/annotation_25.nrrd\n",
      "2020-07-17 23:12:57,445 allensdk.api.api.retrieve_file_over_http INFO     Downloading URL: http://download.alleninstitute.org/informatics-archive/current-release/mouse_ccf/annotation/ccf_2017/structure_meshes/997.obj\n"
     ]
    },
    {
     "name": "stdout",
     "output_type": "stream",
     "text": [
      "Setting 'display_inset' to False as this feature is not available in juputer notebooks\n",
      "Setting window size to 'auto' as whole screen is not available in jupyter\n"
     ]
    },
    {
     "name": "stderr",
     "output_type": "stream",
     "text": [
      "2020-07-17 23:13:19,436 allensdk.api.api.retrieve_file_over_http INFO     Downloading URL: http://download.alleninstitute.org/informatics-archive/current-release/mouse_ccf/annotation/ccf_2017/structure_meshes/385.obj\n"
     ]
    },
    {
     "name": "stdout",
     "output_type": "stream",
     "text": [
      "The scene is ready to render in your jupyter notebook\n"
     ]
    },
    {
     "ename": "KeyboardInterrupt",
     "evalue": "",
     "output_type": "error",
     "traceback": [
      "\u001b[0;31m---------------------------------------------------------------------------\u001b[0m",
      "\u001b[0;31mKeyboardInterrupt\u001b[0m                         Traceback (most recent call last)",
      "\u001b[0;32m<ipython-input-4-90a781251bcc>\u001b[0m in \u001b[0;36m<module>\u001b[0;34m\u001b[0m\n\u001b[1;32m      7\u001b[0m \u001b[0;34m\u001b[0m\u001b[0m\n\u001b[1;32m      8\u001b[0m \u001b[0mvp\u001b[0m \u001b[0;34m=\u001b[0m \u001b[0mPlotter\u001b[0m\u001b[0;34m(\u001b[0m\u001b[0maxes\u001b[0m\u001b[0;34m=\u001b[0m\u001b[0;36m0\u001b[0m\u001b[0;34m)\u001b[0m\u001b[0;34m\u001b[0m\u001b[0;34m\u001b[0m\u001b[0m\n\u001b[0;32m----> 9\u001b[0;31m \u001b[0mvp\u001b[0m\u001b[0;34m.\u001b[0m\u001b[0mshow\u001b[0m\u001b[0;34m(\u001b[0m\u001b[0mtutorial_scene\u001b[0m\u001b[0;34m.\u001b[0m\u001b[0mget_actors\u001b[0m\u001b[0;34m(\u001b[0m\u001b[0;34m)\u001b[0m\u001b[0;34m,\u001b[0m \u001b[0mviewup\u001b[0m\u001b[0;34m=\u001b[0m\u001b[0;34m(\u001b[0m\u001b[0;36m10\u001b[0m\u001b[0;34m,\u001b[0m \u001b[0;36m0.7\u001b[0m\u001b[0;34m,\u001b[0m \u001b[0;36m0\u001b[0m\u001b[0;34m)\u001b[0m\u001b[0;34m)\u001b[0m\u001b[0;34m\u001b[0m\u001b[0;34m\u001b[0m\u001b[0m\n\u001b[0m",
      "\u001b[0;32m~/anaconda3/lib/python3.7/site-packages/vtkplotter/plotter.py\u001b[0m in \u001b[0;36mshow\u001b[0;34m(self, *actors, **options)\u001b[0m\n\u001b[1;32m   1803\u001b[0m \u001b[0;34m\u001b[0m\u001b[0m\n\u001b[1;32m   1804\u001b[0m         \u001b[0;32mif\u001b[0m \u001b[0mhasattr\u001b[0m\u001b[0;34m(\u001b[0m\u001b[0mself\u001b[0m\u001b[0;34m,\u001b[0m \u001b[0;34m'interactor'\u001b[0m\u001b[0;34m)\u001b[0m \u001b[0;32mand\u001b[0m \u001b[0mself\u001b[0m\u001b[0;34m.\u001b[0m\u001b[0minteractor\u001b[0m \u001b[0;32mand\u001b[0m \u001b[0mself\u001b[0m\u001b[0;34m.\u001b[0m\u001b[0minteractive\u001b[0m\u001b[0;34m:\u001b[0m\u001b[0;34m\u001b[0m\u001b[0;34m\u001b[0m\u001b[0m\n\u001b[0;32m-> 1805\u001b[0;31m             \u001b[0mself\u001b[0m\u001b[0;34m.\u001b[0m\u001b[0minteractor\u001b[0m\u001b[0;34m.\u001b[0m\u001b[0mStart\u001b[0m\u001b[0;34m(\u001b[0m\u001b[0;34m)\u001b[0m\u001b[0;34m\u001b[0m\u001b[0;34m\u001b[0m\u001b[0m\n\u001b[0m\u001b[1;32m   1806\u001b[0m \u001b[0;34m\u001b[0m\u001b[0m\n\u001b[1;32m   1807\u001b[0m         \u001b[0;32mif\u001b[0m \u001b[0mrate\u001b[0m\u001b[0;34m:\u001b[0m\u001b[0;34m\u001b[0m\u001b[0;34m\u001b[0m\u001b[0m\n",
      "\u001b[0;31mKeyboardInterrupt\u001b[0m: "
     ]
    }
   ],
   "source": [
    "\n",
    "# Let's create our first scene!\n",
    "tutorial_scene = Scene(jupyter=True)\n",
    "tutorial_scene.add_brain_regions(['VISp'], colors='blue') # add the PAG to our scene\n",
    "# This will render the scene in a new window. \n",
    "# Press 'Esc' to close it.\n",
    "tutorial_scene.render()\n",
    "\n",
    "vp = Plotter(axes=0)\n",
    "vp.show(tutorial_scene.get_actors(), viewup=(10, 0.7, 0))\n"
   ]
  },
  {
   "cell_type": "code",
   "execution_count": 3,
   "metadata": {},
   "outputs": [],
   "source": [
    "mid_brain_circuits=['SCs','SCm','MRN','APN','PAG','ZI']\n",
    "frontal_circuits=['MOs','PL','ILA','ORB','MOp','SSp']"
   ]
  },
  {
   "cell_type": "code",
   "execution_count": null,
   "metadata": {
    "scrolled": true
   },
   "outputs": [
    {
     "name": "stdout",
     "output_type": "stream",
     "text": [
      "Setting 'display_inset' to False as this feature is not available in juputer notebooks\n",
      "Setting window size to 'auto' as whole screen is not available in jupyter\n",
      "The scene is ready to render in your jupyter notebook\n"
     ]
    }
   ],
   "source": [
    "tutorial_scene = Scene(jupyter=True)\n",
    "tutorial_scene.add_brain_regions(mid_brain_circuits,use_original_color=True) \n",
    "tutorial_scene.render()\n",
    "\n",
    "vp = Plotter(axes=0)\n",
    "vp.show(tutorial_scene.get_actors(), viewup=(10, 0.7, 0))"
   ]
  },
  {
   "cell_type": "code",
   "execution_count": 17,
   "metadata": {},
   "outputs": [
    {
     "name": "stdout",
     "output_type": "stream",
     "text": [
      "Setting 'display_inset' to False as this feature is not available in juputer notebooks\n",
      "Setting window size to 'auto' as whole screen is not available in jupyter\n",
      "The scene is ready to render in your jupyter notebook\n"
     ]
    },
    {
     "data": {
      "application/vnd.jupyter.widget-view+json": {
       "model_id": "824b286a85b74b0282923b8395238c69",
       "version_major": 2,
       "version_minor": 0
      },
      "text/plain": [
       "Plot(antialias=3, axes=['x', 'y', 'z'], axes_helper=1.0, background_color=16777215, camera=[6771.671281616228,…"
      ]
     },
     "metadata": {},
     "output_type": "display_data"
    }
   ],
   "source": [
    "tutorial_scene = Scene(jupyter=True)\n",
    "tutorial_scene.add_brain_regions(frontal_circuits[0],use_original_color=True) \n",
    "tutorial_scene.render()\n",
    "\n",
    "vp = Plotter(axes=0)\n",
    "vp.show(tutorial_scene.get_actors(), viewup=(10, 0.7, 0))"
   ]
  }
 ],
 "metadata": {
  "kernelspec": {
   "display_name": "Python 3",
   "language": "python",
   "name": "python3"
  },
  "language_info": {
   "codemirror_mode": {
    "name": "ipython",
    "version": 3
   },
   "file_extension": ".py",
   "mimetype": "text/x-python",
   "name": "python",
   "nbconvert_exporter": "python",
   "pygments_lexer": "ipython3",
   "version": "3.7.7"
  }
 },
 "nbformat": 4,
 "nbformat_minor": 4
}
